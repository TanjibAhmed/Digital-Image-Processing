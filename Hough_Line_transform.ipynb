{
 "cells": [
  {
   "cell_type": "code",
   "execution_count": null,
   "id": "044a0df6",
   "metadata": {},
   "outputs": [
    {
     "name": "stdout",
     "output_type": "stream",
     "text": [
      "(1067, 1600, 3)\n",
      "(1067, 1600)\n"
     ]
    }
   ],
   "source": [
    "#HOugh line transform\n",
    "import cv2\n",
    "import numpy as np\n",
    "\n",
    "# Load an image from file\n",
    "image = cv2.imread(r'im3.webp')\n",
    "print(image.shape)\n",
    "\n",
    "# Convert the image to grayscale\n",
    "gray = cv2.cvtColor(image, cv2.COLOR_BGR2GRAY)\n",
    "\n",
    "# Apply GaussianBlur to reduce noise\n",
    "blurred = cv2.GaussianBlur(gray, (5, 5), 0)  #5x5 kernel. 0 means automatically deviation values will be assigned\n",
    "\n",
    "# Use the Canny edge detector to find edges\n",
    "edges = cv2.Canny(blurred, 50, 150)  #gradient value above 150 are strong edges\n",
    "print(edges.shape)\n",
    "\n",
    "# Use the Hough Transform to detect lines\n",
    "lines = cv2.HoughLines(edges, 1, np.pi / 180, threshold=100) #rho = 1= Distance resolution of the accumulator in pixels, theta = np.pi/180 = Angle resolution of the accumulator in radians., threshold = min vote to be considered as line\n",
    "#print(lines)\n",
    "\n",
    "# Draw the lines on the original image\n",
    "for line in lines:\n",
    "    rho, theta = line[0]\n",
    "    a = np.cos(theta)\n",
    "    b = np.sin(theta)\n",
    "    x0 = a * rho\n",
    "    y0 = b * rho\n",
    "    x1 = int(x0 + 1000 * (-b))   # multiplying by 1000 extends the line segment by a factor of 1000 pixels in both directions from the detected point.\n",
    "    y1 = int(y0 + 1000 * (a))\n",
    "    x2 = int(x0 - 1000 * (-b))\n",
    "    y2 = int(y0 - 1000 * (a))\n",
    "    cv2.line(image, (x1, y1), (x2, y2), (0, 0, 255), 2)\n",
    "\n",
    "# Display the result\n",
    "cv2.imshow('Hough Line Detection', image)\n",
    "cv2.waitKey(0)\n",
    "cv2.destroyAllWindows()\n"
   ]
  },
  {
   "cell_type": "code",
   "execution_count": null,
   "id": "38880cbc",
   "metadata": {},
   "outputs": [],
   "source": []
  },
  {
   "cell_type": "code",
   "execution_count": null,
   "id": "f4d247b0",
   "metadata": {},
   "outputs": [],
   "source": []
  }
 ],
 "metadata": {
  "kernelspec": {
   "display_name": "Python 3 (ipykernel)",
   "language": "python",
   "name": "python3"
  },
  "language_info": {
   "codemirror_mode": {
    "name": "ipython",
    "version": 3
   },
   "file_extension": ".py",
   "mimetype": "text/x-python",
   "name": "python",
   "nbconvert_exporter": "python",
   "pygments_lexer": "ipython3",
   "version": "3.9.17"
  }
 },
 "nbformat": 4,
 "nbformat_minor": 5
}
